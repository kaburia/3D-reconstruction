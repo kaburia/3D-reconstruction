{
 "cells": [
  {
   "cell_type": "code",
   "execution_count": 17,
   "metadata": {},
   "outputs": [],
   "source": [
    "import cv2\n",
    "import os\n",
    "import numpy as np\n",
    "import torch\n",
    "from torchvision import "
   ]
  },
  {
   "cell_type": "code",
   "execution_count": 57,
   "metadata": {},
   "outputs": [],
   "source": [
    "video_path = os.path.join(os.getcwd(), 'Dino.avi')\n",
    "video = cv2.VideoCapture(video_path)\n",
    "if not video.isOpened():\n",
    "    print(\"Failed to open the video file.\")\n",
    "    exit()\n"
   ]
  },
  {
   "attachments": {},
   "cell_type": "markdown",
   "metadata": {},
   "source": [
    "### Retrieve Metadata"
   ]
  },
  {
   "cell_type": "code",
   "execution_count": 58,
   "metadata": {},
   "outputs": [
    {
     "name": "stdout",
     "output_type": "stream",
     "text": [
      "Frame count: 210\n",
      "FPS: 31.579612202362156\n",
      "Width: 878\n",
      "Height: 824\n",
      "Duration: 6.649859999999999 seconds\n"
     ]
    }
   ],
   "source": [
    "frame_count = int(video.get(cv2.CAP_PROP_FRAME_COUNT))\n",
    "fps = video.get(cv2.CAP_PROP_FPS)\n",
    "width = int(video.get(cv2.CAP_PROP_FRAME_WIDTH))\n",
    "height = int(video.get(cv2.CAP_PROP_FRAME_HEIGHT))\n",
    "duration = frame_count / fps\n",
    "\n",
    "\n",
    "print(\"Frame count:\", frame_count)\n",
    "print(\"FPS:\", fps)\n",
    "print(\"Width:\", width)\n",
    "print(\"Height:\", height)\n",
    "print(\"Duration:\", duration, \"seconds\")\n"
   ]
  },
  {
   "attachments": {},
   "cell_type": "markdown",
   "metadata": {},
   "source": [
    "Generate frames from the video"
   ]
  },
  {
   "cell_type": "code",
   "execution_count": 59,
   "metadata": {},
   "outputs": [],
   "source": [
    "os.makedirs('frames', exist_ok=True)"
   ]
  },
  {
   "cell_type": "code",
   "execution_count": 60,
   "metadata": {},
   "outputs": [],
   "source": [
    "for frame_index in range(frame_count):\n",
    "    ret, frame = video.read()\n",
    "    if not ret:\n",
    "        break\n",
    "   # Save the frame as an image\n",
    "    image_path = os.path.join('frames', f\"frame_{frame_index}.jpg\")\n",
    "    cv2.imwrite(image_path, frame)\n",
    "\n",
    "# Release the video capture object\n",
    "video.release()\n",
    "cv2.destroyAllWindows()"
   ]
  },
  {
   "attachments": {},
   "cell_type": "markdown",
   "metadata": {},
   "source": [
    "## Feature Extraction\n",
    "\n",
    "Detect and extract distinctive features from the images. Use feature extraction algorithms like SIFT, SURF, or ORB to identify key points or regions."
   ]
  },
  {
   "attachments": {},
   "cell_type": "markdown",
   "metadata": {},
   "source": [
    "### Scale Invariant Feature Transform(SIFT)\n",
    "\n",
    "- Scale-space peak selection: Potential Location for finding features.\n",
    "- Keypoint Localization: Accurately locating the feature keypoints\n",
    "- Orientation Assignment: Assigning orientation to keypoints\n",
    "- Keypoint descriptor: Describing the keypoints as a high dimensional vector\n",
    "- Keypoint Matching"
   ]
  },
  {
   "cell_type": "code",
   "execution_count": null,
   "metadata": {},
   "outputs": [],
   "source": []
  }
 ],
 "metadata": {
  "kernelspec": {
   "display_name": "Python 3",
   "language": "python",
   "name": "python3"
  },
  "language_info": {
   "codemirror_mode": {
    "name": "ipython",
    "version": 3
   },
   "file_extension": ".py",
   "mimetype": "text/x-python",
   "name": "python",
   "nbconvert_exporter": "python",
   "pygments_lexer": "ipython3",
   "version": "3.10.11"
  },
  "orig_nbformat": 4
 },
 "nbformat": 4,
 "nbformat_minor": 2
}
