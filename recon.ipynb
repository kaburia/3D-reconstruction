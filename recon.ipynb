{
 "cells": [
  {
   "cell_type": "code",
   "execution_count": 1,
   "metadata": {},
   "outputs": [],
   "source": [
    "import cv2"
   ]
  },
  {
   "cell_type": "code",
   "execution_count": 10,
   "metadata": {},
   "outputs": [],
   "source": [
    "vid = cv2.VideoCapture('Dino.avi')"
   ]
  },
  {
   "cell_type": "code",
   "execution_count": 15,
   "metadata": {},
   "outputs": [
    {
     "name": "stdout",
     "output_type": "stream",
     "text": [
      "\u001b[1;31mDocstring:\u001b[0m\n",
      "read([, image]) -> retval, image\n",
      ".   @brief Grabs, decodes and returns the next video frame.\n",
      ".   \n",
      ".       @param [out] image the video frame is returned here. If no frames has been grabbed the image will be empty.\n",
      ".       @return `false` if no frames has been grabbed\n",
      ".   \n",
      ".       The method/function combines VideoCapture::grab() and VideoCapture::retrieve() in one call. This is the\n",
      ".       most convenient method for reading video files or capturing data from decode and returns the just\n",
      ".       grabbed frame. If no frames has been grabbed (camera has been disconnected, or there are no more\n",
      ".       frames in video file), the method returns false and the function returns empty image (with %cv::Mat, test it with Mat::empty()).\n",
      ".   \n",
      ".       @note In @ref videoio_c \"C API\", functions cvRetrieveFrame() and cv.RetrieveFrame() return image stored inside the video\n",
      ".       capturing structure. It is not allowed to modify or release the image! You can copy the frame using\n",
      ".       cvCloneImage and then do whatever you want with the copy.\n",
      "\u001b[1;31mType:\u001b[0m      builtin_function_or_method\n"
     ]
    }
   ],
   "source": [
    "vid.read?"
   ]
  },
  {
   "cell_type": "code",
   "execution_count": null,
   "metadata": {},
   "outputs": [],
   "source": [
    "while True:\n",
    "    ret, frame = vid.read()\n",
    "    print(frame)\n",
    "    if not ret:\n",
    "        cv2.imshow('Dino', frame)\n",
    "        if cv2.waitKey(1) & 0xFF == ord('q'):\n",
    "            vid.release()\n",
    "            cv2.destroyAllWindows()\n",
    "\n"
   ]
  },
  {
   "cell_type": "code",
   "execution_count": 16,
   "metadata": {},
   "outputs": [],
   "source": [
    "vid.release()\n",
    "cv2.destroyAllWindows()"
   ]
  },
  {
   "cell_type": "code",
   "execution_count": null,
   "metadata": {},
   "outputs": [],
   "source": []
  }
 ],
 "metadata": {
  "kernelspec": {
   "display_name": "Python 3",
   "language": "python",
   "name": "python3"
  },
  "language_info": {
   "codemirror_mode": {
    "name": "ipython",
    "version": 3
   },
   "file_extension": ".py",
   "mimetype": "text/x-python",
   "name": "python",
   "nbconvert_exporter": "python",
   "pygments_lexer": "ipython3",
   "version": "3.10.11"
  },
  "orig_nbformat": 4
 },
 "nbformat": 4,
 "nbformat_minor": 2
}
